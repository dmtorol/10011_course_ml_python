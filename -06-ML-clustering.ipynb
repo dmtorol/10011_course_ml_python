{
 "cells": [
  {
   "cell_type": "markdown",
   "metadata": {},
   "source": [
    "# Clustering"
   ]
  },
  {
   "cell_type": "markdown",
   "metadata": {},
   "source": [
    "## 1. Introducción teórica al clustering"
   ]
  },
  {
   "cell_type": "markdown",
   "metadata": {},
   "source": [
    "Se conoce como clustering a las técnicas de machine learning que permiten identificar patrones o grupos (clusters) dentro de un conjunto de observaciones. Estas técnicas forman parte de los métodos no supervisados."
   ]
  },
  {
   "cell_type": "markdown",
   "metadata": {},
   "source": [
    "### 1.1. Distancias"
   ]
  },
  {
   "cell_type": "markdown",
   "metadata": {},
   "source": [
    "A pesar de que el abánico de técnicas de clusterización es muy amplio, todos los métodos tienen un punto en común, y es que se necesita una medida de similitud entre observaciones para poder agruparlas después.\n",
    "\n",
    "Esta medida de similitud es lo que se conoce dentro del ámbito del clustering como distancia. Si llevamos cada observación a un espacio dimensional $k$, donde $k$ es cada una de las variables del modelo, las observaciones más similares se encontrarán más cerca dentro de este espacio, es por esto, que se denomina a este indicador de similitud distancia.\n",
    "\n",
    "Existen diferentes formas de calcular la distancia entre dos observaciones $x_i$ y $x_j$ en un espacio dimensional $k$:\n",
    "\n",
    "**Distancia Euclidea:**\n",
    "\n",
    "La distancia euclídea entre dos puntos $x_i$ y $x_j$ se define como la longitud del segmento que une ambos puntos. En coordenadas cartesianas, la distancia euclídea se calcula empleando el teorema de Pitágoras. Su fórmula es:\n",
    "\n",
    "\\begin{align}\n",
    "D_1(x_i, x_j) =\\sqrt{(x_{i1}-x_{j1})^2+(x_{i2}-x_{j2})^2+...+(x_{in}-x_{jn})^2}=\\sqrt{\\sum_{k=1}^{n} (x_{ik}-x_{jk})^2}\n",
    "\\end{align}\n",
    "\n",
    "**Distancia Manhattan:**\n",
    "\n",
    "La distancia de Manhattan, también conocida como taxicab metric, rectilinear distance o L1 distance, define la distancia entre dos puntos $x_i$ y $x_j$ como el sumatorio de las diferencias absolutas entre cada dimensión. Esta medida se ve menos afectada por outliers (es más robusta) que la distancia euclídea debido a que no eleva al cuadrado las diferencias. Su fórmula es:\n",
    "\n",
    "\\begin{align}\n",
    "D_1(x_i, x_j) = |x_{i1}-x_{j1}|+|x_{i2}-x_{j2}|+...+|x_{in}-x_{jn}|=\\sum_{k=1}^{n} |x_{ik}-x_{jk}|\n",
    "\\end{align}\n",
    "\n",
    "**Distancia de Minkowski:**\n",
    "\n",
    "La fórmula de la distancia de Minkowski tiene una estructura similar a la distancia euclidea, solo que en esta se puede definir un parámetro $p$ que cuanto más grande es, más minimiza la distancia entre las observaciones.\n",
    "\n",
    "\\begin{align}\n",
    "D_1(x_i, x_j) =\\sqrt[p]{(x_{i1}-x_{j1})^p+(x_{i2}-x_{j2})^p+...+(x_{in}-x_{jn})^p}=\\sqrt[p]{\\sum_{k=1}^{n} (x_{ik}-x_{jk})^p}\n",
    "\\end{align}\n",
    "\n",
    "> *Para $p=1$ obtenemos la distancia de Manhattan, y para $p=2$ la distancia Euclidea.*\n",
    "\n",
    "**Normalización de distancias:**\n",
    "\n",
    "Dado que es posible que no todas las variables tengan el mismo rango, es necesario normalizar el dataset. Esto se debe a que en caso no hacerlo, aquellas variables que tengan valores muy altos pueden tener mucha más significancia (a nivel de distancia) que otras variables que tengan relevancia, sesgando el modelo y marcando la agrupación final.\n",
    "\n",
    "Una de las formas de normalizar un dataset es aplicar a cada variable una normalización en base a su media y desviación estándar:\n",
    "\n",
    "\\begin{align}\n",
    "x_i' = \\frac{x_i-\\mu}{\\sigma}\n",
    "\\end{align}"
   ]
  },
  {
   "cell_type": "markdown",
   "metadata": {},
   "source": [
    "### 1.2. Tipos de clustering"
   ]
  },
  {
   "cell_type": "markdown",
   "metadata": {},
   "source": [
    "#### 1.2.1. Clustering jerárquico"
   ]
  },
  {
   "cell_type": "markdown",
   "metadata": {},
   "source": [
    "El clustering jerárquico es un método de agrupación de observaciones en el que no es necesario definir el número de grupos final. Este algoritmo agrupa los datos basándose en la distancia entre cada uno y buscando que los datos que están dentro de un clúster sean los más similares entre sí.\n",
    "\n",
    "En base a la estrategia seguida para crear los grupos, los algoritmos de clustering jerárquico se pueden dividir en dos grupos:\n",
    "\n",
    "- Aglomerativos\n",
    "- Divisivos\n",
    "\n",
    "**Agglomerative clustering (bottom-up):** en este método cada observación empieza siendo un cluster independiente, y en cada iteración del algoritmo, se va buscando que puntos son los que tienen menor distancia (mayor similitud) entre ello para ir agrupándolos en nuevos cluster. Este proceso se repite hasta que todas las observaciones convergen en un único cluster.\n",
    "\n",
    "Para este método es necesario definir el método para obtener la distancia, y el tipo de nexo (*linkage*) entre clusters:\n",
    "\n",
    "- Máximo (*complete or maximum*): es la distancia entre los dos puntos más aldejados de dos clusters diferentes. Es la medida más conservadora.\n",
    "- Mínimo (*single or minimum*): es la distancia entre los dos puntos más cercanos de dos clusters diferentes. Es la medida menos conservadora.\n",
    "- Media (*average*): es la distancia media entre todos los pares de observaciones de dos clusters.\n",
    "- Centroide (*centroid*): es la distancia entre los centroides de dos clusters.\n",
    "- Ward: es un método cuyo objetivo es reducir la suma total de varianza intra-cluster.\n",
    "\n",
    "Los tipo de *linkage* más utilizados son el máximo, media y Ward, ya que son los que generan unos agrupamientos mas compensados.\n",
    "\n",
    "**Divisive clustering (top-down):** al contrario que en el método anterior, en este caso se inicia el proceso con todas las observaciones formando parte de un único cluster, el cual se va dividiendo progresivamente en función de las distancias entre los nuevos clusteres que vayan surgiendo de cada iteración. Este proceso se repite hasta que cada observación forma un único cluster.\n",
    "\n",
    "Al contrario en el caso aglomerativo, en este tipo de agrupación solo es necesario indicar el tipo de distancia a emplear.\n",
    "\n",
    "\n",
    "\n",
    "\n",
    "Una forma muy intuitiva de representar estos dos métodos jerárquicos, es medianta una estructura de árbol que recibe el nombre de dendrograma."
   ]
  },
  {
   "cell_type": "markdown",
   "metadata": {},
   "source": [
    "#### 1.2.2. Clustering por particiones"
   ]
  },
  {
   "cell_type": "markdown",
   "metadata": {},
   "source": [
    "#### 1.2.3. Clustering basado en densidad"
   ]
  },
  {
   "cell_type": "markdown",
   "metadata": {},
   "source": [
    "## 2. Clustering jerárquico"
   ]
  },
  {
   "cell_type": "code",
   "execution_count": 1,
   "metadata": {},
   "outputs": [],
   "source": [
    "## Importamos librerias\n",
    "import pandas as pd\n",
    "import matplotlib.pyplot as plt\n",
    "from scipy.cluster.hierarchy import dendrogram, linkage"
   ]
  },
  {
   "cell_type": "code",
   "execution_count": 2,
   "metadata": {},
   "outputs": [
    {
     "data": {
      "text/html": [
       "<div>\n",
       "<style scoped>\n",
       "    .dataframe tbody tr th:only-of-type {\n",
       "        vertical-align: middle;\n",
       "    }\n",
       "\n",
       "    .dataframe tbody tr th {\n",
       "        vertical-align: top;\n",
       "    }\n",
       "\n",
       "    .dataframe thead th {\n",
       "        text-align: right;\n",
       "    }\n",
       "</style>\n",
       "<table border=\"1\" class=\"dataframe\">\n",
       "  <thead>\n",
       "    <tr style=\"text-align: right;\">\n",
       "      <th></th>\n",
       "      <th>user_id</th>\n",
       "      <th>star_wars</th>\n",
       "      <th>lord_of_the_rings</th>\n",
       "      <th>harry_potter</th>\n",
       "    </tr>\n",
       "  </thead>\n",
       "  <tbody>\n",
       "    <tr>\n",
       "      <td>0</td>\n",
       "      <td>1</td>\n",
       "      <td>1.2</td>\n",
       "      <td>4.9</td>\n",
       "      <td>2.1</td>\n",
       "    </tr>\n",
       "    <tr>\n",
       "      <td>1</td>\n",
       "      <td>2</td>\n",
       "      <td>2.1</td>\n",
       "      <td>8.1</td>\n",
       "      <td>7.9</td>\n",
       "    </tr>\n",
       "    <tr>\n",
       "      <td>2</td>\n",
       "      <td>3</td>\n",
       "      <td>7.4</td>\n",
       "      <td>3.0</td>\n",
       "      <td>9.9</td>\n",
       "    </tr>\n",
       "  </tbody>\n",
       "</table>\n",
       "</div>"
      ],
      "text/plain": [
       "   user_id  star_wars  lord_of_the_rings  harry_potter\n",
       "0        1        1.2                4.9           2.1\n",
       "1        2        2.1                8.1           7.9\n",
       "2        3        7.4                3.0           9.9"
      ]
     },
     "execution_count": 2,
     "metadata": {},
     "output_type": "execute_result"
    }
   ],
   "source": [
    "## Cargamos el fichero de trabajo\n",
    "mainpath = \"C:/Users/gmachin/Desktop/Developer/apuntes-notebooks/datasets\"\n",
    "filename = \"/movies/movies.csv\"\n",
    "fullpath = mainpath + filename\n",
    "\n",
    "df_movies = pd.read_csv(fullpath, sep = ';')\n",
    "\n",
    "df_movies.head(3)"
   ]
  },
  {
   "cell_type": "markdown",
   "metadata": {},
   "source": [
    "El tipo de nexo entre clusters se define mediante la función `linkage(input, method, metric)`, donde `method` puede ser:\n",
    "\n",
    "- `complete`\n",
    "- `single`\n",
    "- `average`\n",
    "- `centroid`\n",
    "- `ward`\n",
    "\n",
    "y `metric`:\n",
    "\n",
    "- `cityblock`\n",
    "- `euclidean`\n",
    "- `minkowski`\n",
    "\n",
    "Para graficar el dendrograma, utilizamos la función `dendogram(linkage)`.\n",
    "\n",
    "Ambas funciones pertenecen a la librería `scipy.cluster.hierarchy`."
   ]
  },
  {
   "cell_type": "markdown",
   "metadata": {},
   "source": [
    "**Linkage: Ward**"
   ]
  },
  {
   "cell_type": "code",
   "execution_count": 16,
   "metadata": {},
   "outputs": [
    {
     "data": {
      "image/png": "[encoded data removed]",
      "text/plain": [
       "<Figure size 720x360 with 1 Axes>"
      ]
     },
     "metadata": {
      "needs_background": "light"
     },
     "output_type": "display_data"
    }
   ],
   "source": [
    "## Nos quedamos solo con aquellas variables con información relativa a al puntuación\n",
    "movies = df_movies[['star_wars', 'lord_of_the_rings', 'harry_potter']]\n",
    "\n",
    "## Definimos el tipo de nexo\n",
    "link = linkage(movies, \"ward\")\n",
    "\n",
    "## Graficamos el dendograma\n",
    "plt.figure(figsize = (10, 5))\n",
    "plt.title(\"Dendrograma jerárquico para el Clustering - Linkage Ward\")\n",
    "plt.xlabel(\"ID de los usuarios de Netflix\")\n",
    "plt.ylabel(\"Distancia\")\n",
    "dendrogram(link, leaf_rotation = 90., leaf_font_size = 10.0)\n",
    "plt.show()"
   ]
  },
  {
   "cell_type": "markdown",
   "metadata": {},
   "source": [
    "**Linkage: Average**"
   ]
  },
  {
   "cell_type": "code",
   "execution_count": 15,
   "metadata": {},
   "outputs": [
    {
     "data": {
      "image/png": "[encoded data removed]",
      "text/plain": [
       "<Figure size 720x360 with 1 Axes>"
      ]
     },
     "metadata": {
      "needs_background": "light"
     },
     "output_type": "display_data"
    }
   ],
   "source": [
    "## Nos quedamos solo con aquellas variables con información relativa a al puntuación\n",
    "movies = df_movies[['star_wars', 'lord_of_the_rings', 'harry_potter']]\n",
    "\n",
    "## Definimos el tipo de nexo\n",
    "link = linkage(movies, \"average\")\n",
    "\n",
    "## Graficamos el dendograma\n",
    "plt.figure(figsize = (10, 5))\n",
    "plt.title(\"Dendrograma jerárquico para el Clustering - Linkage Average\")\n",
    "plt.xlabel(\"ID de los usuarios de Netflix\")\n",
    "plt.ylabel(\"Distancia\")\n",
    "dendrogram(link, leaf_rotation = 90.0, leaf_font_size = 10.0)\n",
    "plt.show()"
   ]
  },
  {
   "cell_type": "code",
   "execution_count": null,
   "metadata": {},
   "outputs": [],
   "source": []
  },
  {
   "cell_type": "code",
   "execution_count": null,
   "metadata": {},
   "outputs": [],
   "source": []
  },
  {
   "cell_type": "code",
   "execution_count": null,
   "metadata": {},
   "outputs": [],
   "source": [
    "from sklearn.cluster import AgglomerativeClustering\n",
    "\n",
    "cluster = AgglomerativeClustering(n_clusters = 2, affinity = 'euclidean', linkage = 'ward')  \n",
    "cluster.fit_predict(X)\n",
    "\n",
    "labels = cluster.labels_"
   ]
  }
 ],
 "metadata": {
  "kernelspec": {
   "display_name": "Python 3",
   "language": "python",
   "name": "python3"
  },
  "language_info": {
   "codemirror_mode": {
    "name": "ipython",
    "version": 3
   },
   "file_extension": ".py",
   "mimetype": "text/x-python",
   "name": "python",
   "nbconvert_exporter": "python",
   "pygments_lexer": "ipython3",
   "version": "3.7.4"
  }
 },
 "nbformat": 4,
 "nbformat_minor": 4
}
