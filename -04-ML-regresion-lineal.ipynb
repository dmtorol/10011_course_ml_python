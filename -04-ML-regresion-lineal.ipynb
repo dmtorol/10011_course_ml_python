{
 "cells": [
  {
   "cell_type": "markdown",
   "metadata": {},
   "source": [
    "# Regresión Lineal"
   ]
  },
  {
   "cell_type": "markdown",
   "metadata": {},
   "source": [
    "En este Notebook podrás encontrar una introducción teórica básica a los modelos de regresión lineal simple y múltiple, y como llevarlos a cabo mediante Python de diferentes formas:\n",
    "\n",
    "- Método manual\n",
    "- statsmodel\n",
    "- scikit-learn\n",
    "\n",
    "La regresión lineal es un método supervisado de machine learning que permite predecir el valor de una variable cuantitativa en base a otra variables o datos."
   ]
  },
  {
   "cell_type": "markdown",
   "metadata": {},
   "source": [
    "## 1. Introducción teórica a la regresión lineal simple"
   ]
  },
  {
   "cell_type": "markdown",
   "metadata": {},
   "source": [
    "### 1.1. Ecuaciones y coeficientes"
   ]
  },
  {
   "cell_type": "markdown",
   "metadata": {},
   "source": [
    "En estadística la regresión lineal es un modelo matemático usado para aproximar la relación de dependencia entre una variable dependiente $y$, y la variable dependiente $x$. Este modelo asume que existe una relación lineal entre la variable $x$ y la varible $y$, más un término denominado error aleatorio que sigue una distribución normal de media cero, $\\epsilon$ ~ $N(0,\\sigma)$. Matemáticamente se puede expresar como:\n",
    "\n",
    "\\begin{align}\n",
    "y = f(x) + \\epsilon = \\alpha + \\beta  x + \\epsilon\n",
    "\\end{align}\n",
    "\n",
    "Para saber si dos variables tienen una relación de dependencia, es común analizar la correlación de éstas. La correlación $r$ de Pearson, es una medida de dependencia lineal entre dos variables aleatorias cuantitativas. A diferencia de otras medidas como la covarianza, la correlación de Pearson es independiente de la escala de medida de las variables. El valor de este índice oscila entre el intervalo [-1, 1], siendo los extremos donde se encuentra la correlación máxima. La fórmula es la siguiente:\n",
    "\n",
    "\\begin{equation*}\n",
    "r = \\frac{\\sum(x_i-\\bar{x})(y_i-\\bar{y})}{\\sqrt{\\sum(x_i-\\bar{x})^2\\sum(y_i-\\bar{y})^2}}\n",
    "\\end{equation*}\n",
    "\n",
    "\n",
    "Una vez se ha analizado la correlación de dos variables, el siguiente paso es obtener el modelo de predicción de de $y$ en base a $x$. En la primera ecuación encontramos que existen dos parámetros desconocidos, $\\alpha$ (intercepto u ordenada en el origen) y $\\beta$ (pendiente), que será necesario estimar. Una vez utilicemos nuestro data set de entrenamiento para obtener el valor de estos coeficientes, podremos predecir un valor $\\hat{y}$ en base a la variable $x$.\n",
    "\n",
    "\\begin{equation*}\n",
    "\\hat{y} = \\hat{f}(x) = \\hat{\\alpha} + \\hat{\\beta} x\n",
    "\\end{equation*}\n",
    "\n",
    "Estos coeficientes se pueden obtener de forma analítica mediante el método de los mínimos cuadrados, o de forma iterativa mediante el uso del algoritmo del gradiente descendente. En estos ejercicios, siempre se trabajará con el primero de ellos, el cual trata de minimizar la suma de los cuadrados de los residuos $e_i$ para todos y cada unos de los puntos del dataset, o dicho de otro modo, las diferencias entre el valor real de $y_i$ y el valor de la predicción $\\hat{y}_i$.\n",
    "\n",
    "\\begin{equation*}\n",
    "MSE = \\frac{1}{n} \\sum e_i^2 = \\frac{1}{n} \\sum (y_i - \\hat{y}_i)^2\n",
    "\\end{equation*}\n",
    "\n",
    "Las fórmulas para estimar estos coeficientes derivadas del método anterior son las siguientes:\n",
    "\n",
    "\\begin{equation*}\n",
    "\\hat{\\beta} = \\frac{\\sum (x_i - \\bar{x})(y_i - \\bar{y})}{\\sum (x_i - \\bar{x})^2}\\qquad\n",
    "\\hat{\\alpha} = \\bar{y} - \\hat{\\beta} \\bar{x}\n",
    "\\end{equation*}"
   ]
  },
  {
   "cell_type": "markdown",
   "metadata": {},
   "source": [
    "### 1.2. Precisión de los coeficientes"
   ]
  },
  {
   "cell_type": "markdown",
   "metadata": {},
   "source": [
    "A la hora de realizar una regresión de este tipo y con el objeto de simplificar el modelo, se asume que la relación entres las variables es puramente lineal, y se dejan fuera del modelo algunas otras variables como el término del error aleatorio $\\epsilon$ u otras columnas del dataset. Por tanto, es claro que aunque nuestros coeficientes estimados $\\hat{\\alpha}$ y $\\hat{\\beta}$ serán similares los coeficientes reales $\\alpha$ y $\\beta$, no serán exactamente iguales.\n",
    "\n",
    "Para obtener una estimación del grado de precisión de los parámetros $\\hat{\\alpha}$ y $\\hat{\\beta}$ frente a los valores reales, se puede utilizar la fórmula del error estándar (SE - Standard Error):\n",
    "\n",
    "\\begin{equation*}\n",
    "SE(\\hat{\\alpha})^2 = \\sigma^2 \\Bigl(\\frac{1}{n} + \\frac{\\bar{x}^2}{\\sum (x_i - \\bar{x})^2} \\Bigr)\n",
    "\\end{equation*}\n",
    "\n",
    "\\begin{equation*}\n",
    "SE(\\hat{\\beta})^2 = \\frac{\\sigma^2}{\\sum (x_i - \\bar{x})^2}\n",
    "\\end{equation*}\n",
    "\n",
    "Donde $\\sigma^2$ es la varianza del error aleatorio $\\epsilon$. De forma general este dato suele ser desconocido, pero se puede obtener una estimación a partir de la fórmula del error residual estándar:\n",
    "\n",
    "\\begin{equation*}\n",
    "RSE = \\sigma = \\sqrt{\\frac{RSS}{n-2}} = \\sqrt{\\frac{\\sum (y_i - \\hat{y})^2}{n-2}}\n",
    "\\end{equation*}\n",
    "\n",
    "Estos erróres estándar pueden ser utilizados para calcular intervalos de confianza. Un intervalo de confianza del 95% nos indica que existe una probabilidad del 95%, de que el coeficiente real desconocido esté contenido en este rango. Para la regresión lineal, el intervalo de confianza del 95% para los dos coeficiente se obtiene mediante las siguientes fórmulas:\n",
    "\n",
    "\\begin{equation*}\n",
    "\\Bigl( \\hat{\\alpha} - 1.96·SE(\\hat{\\alpha}),\\ \\hat{\\alpha} + 1.96·SE(\\hat{\\alpha})  \\Bigr)\n",
    "\\end{equation*}\n",
    "\n",
    "\\begin{equation*}\n",
    "\\Bigl( \\hat{\\beta} - 1.96·SE(\\hat{\\beta}),\\ \\hat{\\beta} + 1.96·SE(\\hat{\\beta})  \\Bigr)\n",
    "\\end{equation*}\n",
    "\n",
    "> ** En realidad, el coeficiente 1.96 de la fórmula anterior tiende a este valor cuando el número de grados de libertad (n) aumenta y el porcentaje de inclusión en el intervalo es de un 95%. Si se quiere ser preciso en base a n, debería calcularse como el valor que contuviera el 97,5% de una distribución t-student con n-2 grados de libertad.*\n",
    "\n",
    "> *Utilizamos el t estadístico ya que al trabajar con muestras de la población total, no tenemos datos como la desviación estándar.*\n",
    "\n",
    "Los errores estándar también pueden ser utilizados para llevar a cabo contrástes de hipótesis en los coeficientes. El contráste de hipótesis más común es contrastar si existe relación entre X e Y.\n",
    "\n",
    "- Hipótesis nula $H_0$: No existe relación entre X e Y\n",
    "- Hipótesis alternativa $H_\\alpha$: Existe una relación entre X e Y\n",
    "\n",
    "Matemáticamente:\n",
    "\n",
    "\\begin{equation*}\n",
    "H_0 : \\beta_1 = 0\\\\\n",
    "H_\\alpha : \\beta_1 \\neq 0\n",
    "\\end{equation*}\n",
    "\n",
    "Para ello calculamos un t-estadístico, que nos indica el número de desviaciones estándar que está $\\hat{\\beta}$ del valor 0.\n",
    "\n",
    "\\begin{equation*}\n",
    "t = \\frac{\\hat{\\beta} - 0}{SE(\\hat{\\beta})}\n",
    "\\end{equation*}\n",
    "\n",
    "A partir de este valor, podemos obtener el p-valor, que es la probabilidad de que un número sea mayor o igual a $t$. Un p-valor pequeño nos indica una relación entre X e Y, por lo que se podría rechazar la hipótesis nula.\n",
    "\n",
    "Valores típicos del p-valor para rechazar la hipótesis nula son los relativos al 1% y 5%. Cuando la n = 30, debemos fijarnos que el t-estadística sea de 2 a 2,75."
   ]
  },
  {
   "cell_type": "markdown",
   "metadata": {},
   "source": [
    "### 1.3. Precisión del modelo"
   ]
  },
  {
   "cell_type": "markdown",
   "metadata": {},
   "source": [
    "Una vez ha sido rechazada la hipótesis nula, es natural querer cuantificar como se adapta nuestro modelo a los datos. La calidad del ajuste de una regresión linea, se basa principalmente en dos valores, el $RSE$ y el $R^2$.\n",
    "\n",
    "El $RSE$ es una estimación de la desviación estándar de $\\epsilon$, o dicho de otro modo, es la cantidad media que se desviará la predicción de la línea de regresión verdadera. El $RSE$ es considerado una medida que indica la falta de adecuación del modelo a los datos. Su ecuación es:\n",
    "\n",
    "\\begin{equation*}\n",
    "RSE = \\sigma = \\sqrt{\\frac{RSS}{n-2}} = \\sqrt{\\frac{\\sum (y_i - \\hat{y})^2}{n-2}}\n",
    "\\end{equation*}\n",
    "\n",
    "El $RSE$ es una medida de la discordancia del modelo a los datos, pero dado que es expresado en las unidades de la variables dependiente, no siempre es claro que valor de RSE es aceptable y cual no. El $R^2$ es una alternativa al indicador anterior, es el cuadrado del coeficiente de correlacion (Pearson). Este estadístico arroja un valor entre 0 y 1, y es independiente de la escala de Y. Para obtener este valor se utiliza la siguiente fórmula:\n",
    "\n",
    "\\begin{equation*}\n",
    "R^2 = \\frac{\\sum(y_i - \\bar{y})^2-\\sum(y_i - \\hat{y})^2}{\\sum(y_i - \\bar{y})^2} = \\frac{TSS-RSS}{TSS} = 1 - \\frac{RSS}{TSS}\n",
    "\\end{equation*}"
   ]
  },
  {
   "cell_type": "markdown",
   "metadata": {},
   "source": [
    "## 2. Introducción a la regresión lineal múltiple"
   ]
  },
  {
   "cell_type": "markdown",
   "metadata": {},
   "source": [
    "### 2.1. Ecuaciones y coeficientes"
   ]
  },
  {
   "cell_type": "markdown",
   "metadata": {},
   "source": [
    "Existen modelos en los que a veces no es suficiente el uso de una variable independiente $x$ para predecir una variable independiente $y$, es en estos casos donde entra en juego la regresión lineal múltiple, donde se tienen en cuenta un número $p$ de variables.\n",
    "\n",
    "\\begin{align}\n",
    "y = f(x) + \\epsilon = \\beta_0 + \\beta_1  x_1 + \\beta_2  x_2 + ... + \\beta_p x_p + \\epsilon\n",
    "\\end{align}\n",
    "\n",
    "Al igual que en el caso de la regresión lineal, estos coeficiente son desconocidos y tendrán que ser estimados para poder definir el modelo de predicción de la variable $\\hat{y}$.\n",
    "\n",
    "\\begin{align}\n",
    "\\hat{y} = \\hat{f}(x) = \\hat{\\beta}_0 + \\hat{\\beta}_1  x_1 + \\hat{\\beta}_2  x_2 + ... + \\hat{\\beta}_p x_p\n",
    "\\end{align}\n",
    "\n",
    "Para estimar estos coeficientes se utiliza el método de los mínimos cuadrados, el cual trata de reducir para cada puntos el residuo, i.e., reducir la suma de los cuadrados de los residuos $RSS$. Dado que en la regresión lineal múltiple existen más variables, será necesario emplear métodos matriciales para hallar analíticamente los coeficientes.\n",
    "\n",
    "\\begin{align}\n",
    "Y = X\\beta + \\epsilon\\qquad\\rightarrow\\qquad\n",
    "\\begin{bmatrix}y_1\\\\y_2\\\\...\\\\y_n\\end{bmatrix} =\n",
    "\\begin{bmatrix}1&x_{11}&x_{12}&...&x_{1p}\\\\\n",
    "1&x_{21}&x_{22}&...&x_{2p}\\\\\n",
    "...&...&...&...&...\\\\\n",
    "1&x_{n1}&x_{n1}&...&x_{np}\\end{bmatrix}\\\n",
    "\\begin{bmatrix}\\beta_o\\\\\\beta_1\\\\\\beta_2\\\\...\\\\\\beta_p\\end{bmatrix} +\n",
    "\\begin{bmatrix}\\epsilon_1\\\\\\epsilon_2\\\\...\\\\\\epsilon_n\\end{bmatrix}\n",
    "\\end{align}\n",
    "\n",
    "\\begin{align}\n",
    "\\beta = (X^TX)^{-1}X^TY\n",
    "\\end{align}\n",
    "\n",
    "Cuando tenemos datasets grandes, $n·p>10^6$, puede ser conveniente empezar a usar el algoritmo del gradiente descendiente, ya que este método puede ralentizar bastante el script."
   ]
  },
  {
   "cell_type": "markdown",
   "metadata": {},
   "source": [
    "### 2.2. Precisón de los coeficientes"
   ]
  },
  {
   "cell_type": "markdown",
   "metadata": {},
   "source": [
    "### 2.3. Precisión del modelo"
   ]
  },
  {
   "cell_type": "markdown",
   "metadata": {},
   "source": [
    "\\begin{equation*}\n",
    "RSE = \\sigma = \\sqrt{\\frac{RSS}{n-p-1}} = \\sqrt{\\frac{\\sum (y_i - \\hat{y})^2}{n-p-1}}\n",
    "\\end{equation*}"
   ]
  },
  {
   "cell_type": "markdown",
   "metadata": {},
   "source": [
    "## 3. Regresión lineal - Manual"
   ]
  },
  {
   "cell_type": "markdown",
   "metadata": {},
   "source": [
    "En este apartado pondremos en práctica todas las funciones vistas en los puntos anteriores. Python tiene un montón de librerías que permiten realizar todas estas operaciones mediante funciones ya definidas, pero en este primer punto las haremos de forma tradicional."
   ]
  },
  {
   "cell_type": "code",
   "execution_count": 18,
   "metadata": {},
   "outputs": [],
   "source": [
    "## Importamos librerias\n",
    "import pandas as pd\n",
    "import numpy as np\n",
    "import matplotlib.pyplot as plt\n",
    "import seaborn as sns\n",
    "\n",
    "## Este comando permite visualizar las gráficas en la celda output del código\n",
    "%matplotlib inline"
   ]
  },
  {
   "cell_type": "markdown",
   "metadata": {},
   "source": [
    "Para estos ejercicios vamos a utilizar un fichero muy simple, el cual contiene los datos de ventas de 200 mercados en función de la cantidad de dinero invertida en cada medio publicitario.\n",
    "\n",
    "Este fichero está formado por 200 registros y 4 columnas:\n",
    "\n",
    "- TV\n",
    "- Radio\n",
    "- Newspaper\n",
    "- Sales"
   ]
  },
  {
   "cell_type": "code",
   "execution_count": 19,
   "metadata": {},
   "outputs": [
    {
     "data": {
      "text/html": [
       "<div>\n",
       "<style scoped>\n",
       "    .dataframe tbody tr th:only-of-type {\n",
       "        vertical-align: middle;\n",
       "    }\n",
       "\n",
       "    .dataframe tbody tr th {\n",
       "        vertical-align: top;\n",
       "    }\n",
       "\n",
       "    .dataframe thead th {\n",
       "        text-align: right;\n",
       "    }\n",
       "</style>\n",
       "<table border=\"1\" class=\"dataframe\">\n",
       "  <thead>\n",
       "    <tr style=\"text-align: right;\">\n",
       "      <th></th>\n",
       "      <th>TV</th>\n",
       "      <th>Radio</th>\n",
       "      <th>Newspaper</th>\n",
       "      <th>Sales</th>\n",
       "    </tr>\n",
       "  </thead>\n",
       "  <tbody>\n",
       "    <tr>\n",
       "      <td>0</td>\n",
       "      <td>230.1</td>\n",
       "      <td>37.8</td>\n",
       "      <td>69.2</td>\n",
       "      <td>22.1</td>\n",
       "    </tr>\n",
       "    <tr>\n",
       "      <td>1</td>\n",
       "      <td>44.5</td>\n",
       "      <td>39.3</td>\n",
       "      <td>45.1</td>\n",
       "      <td>10.4</td>\n",
       "    </tr>\n",
       "    <tr>\n",
       "      <td>2</td>\n",
       "      <td>17.2</td>\n",
       "      <td>45.9</td>\n",
       "      <td>69.3</td>\n",
       "      <td>9.3</td>\n",
       "    </tr>\n",
       "  </tbody>\n",
       "</table>\n",
       "</div>"
      ],
      "text/plain": [
       "      TV  Radio  Newspaper  Sales\n",
       "0  230.1   37.8       69.2   22.1\n",
       "1   44.5   39.3       45.1   10.4\n",
       "2   17.2   45.9       69.3    9.3"
      ]
     },
     "execution_count": 19,
     "metadata": {},
     "output_type": "execute_result"
    }
   ],
   "source": [
    "## Cargamos el fichero de trabajo\n",
    "mainpath = \"C:/Users/gmachin/Desktop/Developer/apuntes-notebooks/datasets\"\n",
    "filename = \"/ads/advertising.csv\"\n",
    "fullpath = mainpath + filename\n",
    "\n",
    "data_ads = pd.read_csv(fullpath)\n",
    "\n",
    "data_ads.head(3)"
   ]
  },
  {
   "cell_type": "code",
   "execution_count": 3,
   "metadata": {},
   "outputs": [
    {
     "data": {
      "text/plain": [
       "(200, 4)"
      ]
     },
     "execution_count": 3,
     "metadata": {},
     "output_type": "execute_result"
    }
   ],
   "source": [
    "data_ads.shape"
   ]
  },
  {
   "cell_type": "markdown",
   "metadata": {},
   "source": [
    "**Correlación de variables:**\n",
    "\n",
    "Para este primer ejercicio se analizará si existe relación entre la cantidad de dinero invertida en TV, y el resultado que esto provoca en las ventas, y en caso de existir, se modelizará esta relación para poder realizar predicciones.\n",
    "\n",
    "Para ello en primer lugar se puede realizar un análisis visual, en el que se observa que a mayor inversión en TV, las ventas parecen aumentar."
   ]
  },
  {
   "cell_type": "code",
   "execution_count": 6,
   "metadata": {},
   "outputs": [
    {
     "data": {
      "text/plain": [
       "<matplotlib.axes._subplots.AxesSubplot at 0x21b1d6912c8>"
      ]
     },
     "execution_count": 6,
     "metadata": {},
     "output_type": "execute_result"
    },
    {
     "data": {
      "image/png": "[encoded data removed]",
      "text/plain": [
       "<Figure size 432x288 with 1 Axes>"
      ]
     },
     "metadata": {
      "needs_background": "light"
     },
     "output_type": "display_data"
    }
   ],
   "source": [
    "## Graficamos la variable TV como la x, y las ventas como la y:\n",
    "data_ads.plot(kind = \"scatter\",\n",
    "              x = \"TV\",\n",
    "              y = \"Sales\")"
   ]
  },
  {
   "cell_type": "markdown",
   "metadata": {},
   "source": [
    "Otra forma es realizar una matriz de correlaciones entre todas las variables, y buscar en ellas de forma gráfica, cuales presentan alguna relación de dependencia. Como se puede ver en el siguiente gráfico, TV y Radio son las que presentan una correlación más acusada frente a las ventas:"
   ]
  },
  {
   "cell_type": "code",
   "execution_count": 26,
   "metadata": {},
   "outputs": [
    {
     "data": {
      "image/png": "[encoded data removed]",
      "text/plain": [
       "<Figure size 720x720 with 20 Axes>"
      ]
     },
     "metadata": {
      "needs_background": "light"
     },
     "output_type": "display_data"
    }
   ],
   "source": [
    "sns.pairplot(data_ads)\n",
    "plt.show()"
   ]
  },
  {
   "cell_type": "markdown",
   "metadata": {},
   "source": [
    "Analíticamente, también se puede obtener un valor del grado de correlación entre variables mediante la $r$ de Pearson. Python permite obtener este valor de forma sencilla mediante la función `df.corr()`. Como se puede ver en la siguiente tabla, el grado de correlación más alto se da para la combinación de variables TV-Sales, en segundo lugar Radio-Sales."
   ]
  },
  {
   "cell_type": "code",
   "execution_count": 4,
   "metadata": {},
   "outputs": [
    {
     "data": {
      "text/html": [
       "<div>\n",
       "<style scoped>\n",
       "    .dataframe tbody tr th:only-of-type {\n",
       "        vertical-align: middle;\n",
       "    }\n",
       "\n",
       "    .dataframe tbody tr th {\n",
       "        vertical-align: top;\n",
       "    }\n",
       "\n",
       "    .dataframe thead th {\n",
       "        text-align: right;\n",
       "    }\n",
       "</style>\n",
       "<table border=\"1\" class=\"dataframe\">\n",
       "  <thead>\n",
       "    <tr style=\"text-align: right;\">\n",
       "      <th></th>\n",
       "      <th>TV</th>\n",
       "      <th>Radio</th>\n",
       "      <th>Newspaper</th>\n",
       "      <th>Sales</th>\n",
       "    </tr>\n",
       "  </thead>\n",
       "  <tbody>\n",
       "    <tr>\n",
       "      <td>TV</td>\n",
       "      <td>1.000000</td>\n",
       "      <td>0.054809</td>\n",
       "      <td>0.056648</td>\n",
       "      <td>0.782224</td>\n",
       "    </tr>\n",
       "    <tr>\n",
       "      <td>Radio</td>\n",
       "      <td>0.054809</td>\n",
       "      <td>1.000000</td>\n",
       "      <td>0.354104</td>\n",
       "      <td>0.576223</td>\n",
       "    </tr>\n",
       "    <tr>\n",
       "      <td>Newspaper</td>\n",
       "      <td>0.056648</td>\n",
       "      <td>0.354104</td>\n",
       "      <td>1.000000</td>\n",
       "      <td>0.228299</td>\n",
       "    </tr>\n",
       "    <tr>\n",
       "      <td>Sales</td>\n",
       "      <td>0.782224</td>\n",
       "      <td>0.576223</td>\n",
       "      <td>0.228299</td>\n",
       "      <td>1.000000</td>\n",
       "    </tr>\n",
       "  </tbody>\n",
       "</table>\n",
       "</div>"
      ],
      "text/plain": [
       "                 TV     Radio  Newspaper     Sales\n",
       "TV         1.000000  0.054809   0.056648  0.782224\n",
       "Radio      0.054809  1.000000   0.354104  0.576223\n",
       "Newspaper  0.056648  0.354104   1.000000  0.228299\n",
       "Sales      0.782224  0.576223   0.228299  1.000000"
      ]
     },
     "execution_count": 4,
     "metadata": {},
     "output_type": "execute_result"
    }
   ],
   "source": [
    "data_ads.corr()"
   ]
  },
  {
   "cell_type": "code",
   "execution_count": 5,
   "metadata": {},
   "outputs": [
    {
     "data": {
      "text/plain": [
       "<matplotlib.image.AxesImage at 0x1b2448d9e88>"
      ]
     },
     "execution_count": 5,
     "metadata": {},
     "output_type": "execute_result"
    },
    {
     "data": {
      "image/png": "[encoded data removed]",
      "text/plain": [
       "<Figure size 288x288 with 1 Axes>"
      ]
     },
     "metadata": {
      "needs_background": "light"
     },
     "output_type": "display_data"
    }
   ],
   "source": [
    "plt.matshow(data_ads.corr())"
   ]
  },
  {
   "cell_type": "markdown",
   "metadata": {},
   "source": [
    "**Cálculo de los coeficientes:**\n",
    "\n",
    "El próximo paso es definir el modelo de predicción averiguando los valores de los coeficientes $\\alpha$ y $\\beta$:\n",
    "\n",
    "\\begin{equation*}\n",
    "\\hat{\\beta} = \\frac{\\sum (x_i - \\bar{x})(y_i - \\bar{y})}{\\sum (x_i - \\bar{x})^2}\\qquad\n",
    "\\hat{\\alpha} = \\bar{y} - \\hat{\\beta} \\bar{x}\n",
    "\\end{equation*}"
   ]
  },
  {
   "cell_type": "code",
   "execution_count": 23,
   "metadata": {},
   "outputs": [
    {
     "name": "stderr",
     "output_type": "stream",
     "text": [
      "C:\\Users\\gmachin\\AppData\\Local\\Continuum\\anaconda3\\lib\\site-packages\\ipykernel_launcher.py:5: SettingWithCopyWarning: \n",
      "A value is trying to be set on a copy of a slice from a DataFrame.\n",
      "Try using .loc[row_indexer,col_indexer] = value instead\n",
      "\n",
      "See the caveats in the documentation: http://pandas.pydata.org/pandas-docs/stable/user_guide/indexing.html#returning-a-view-versus-a-copy\n",
      "  \"\"\"\n"
     ]
    },
    {
     "name": "stdout",
     "output_type": "stream",
     "text": [
      "Los coeficientes alfa y beta son: 7.032593549127705 0.04753664043301969\n"
     ]
    }
   ],
   "source": [
    "## Nos quedamos solo con las columnas de TV (x) y Sales (y):\n",
    "df_ads_tv = data_ads[['TV', 'Sales']]\n",
    "\n",
    "## Creamos las columnas auxiliares necesarias:\n",
    "df_ads_tv['TV_mean'] = df_ads_tv['TV'].mean()\n",
    "df_ads_tv['Sales_mean'] = df_ads_tv['Sales'].mean()\n",
    "\n",
    "## Calculamos los coeficientes alfa y beta:\n",
    "numerador = sum((df_ads_tv['TV'] - df_ads_tv['TV_mean'])*(df_ads_tv['Sales'] - df_ads_tv['Sales_mean']))\n",
    "denominador = sum((df_ads_tv['TV'] - df_ads_tv['TV_mean'])**2)\n",
    "\n",
    "beta = numerador / denominador\n",
    "alfa = df_ads_tv['Sales'].mean() - beta * df_ads_tv['TV'].mean()\n",
    "\n",
    "## Imprimimos el valor de los coeficientes:\n",
    "print(\"Los coeficientes alfa y beta son:\", alfa, beta)"
   ]
  },
  {
   "cell_type": "markdown",
   "metadata": {},
   "source": [
    "Una vez estimados los coeficientes de la recta de regresión, se puede escribir la función predictora como:\n",
    "\n",
    "\\begin{equation*}\n",
    "\\hat{y} = 7.0326 + 0.0475 · x\n",
    "\\end{equation*}"
   ]
  },
  {
   "cell_type": "markdown",
   "metadata": {},
   "source": [
    "Si pintamos esta recta de regresión junto a la nube de puntos anterior, veremos como se adapta a la forma de la nube:"
   ]
  },
  {
   "cell_type": "code",
   "execution_count": 41,
   "metadata": {},
   "outputs": [],
   "source": [
    "## Añadimos una columna al dataset que sea el valor de y_pred\n",
    "df_ads_tv['Sales_pred'] = 7.0326 + 0.0475 * df_ads_tv['TV']"
   ]
  },
  {
   "cell_type": "code",
   "execution_count": 42,
   "metadata": {},
   "outputs": [
    {
     "data": {
      "text/plain": [
       "[<matplotlib.lines.Line2D at 0x21b1f0f7348>]"
      ]
     },
     "execution_count": 42,
     "metadata": {},
     "output_type": "execute_result"
    },
    {
     "data": {
      "image/png": "[encoded data removed]",
      "text/plain": [
       "<Figure size 432x288 with 1 Axes>"
      ]
     },
     "metadata": {
      "needs_background": "light"
     },
     "output_type": "display_data"
    }
   ],
   "source": [
    "## Graficamos la variable TV como la x, y las ventas como la y:\n",
    "df_ads_tv.plot(kind = \"scatter\", x = \"TV\", y = \"Sales\")\n",
    "\n",
    "plt.plot(df_ads_tv[\"TV\"], df_ads_tv[\"Sales_pred\"], \"g\")"
   ]
  },
  {
   "cell_type": "markdown",
   "metadata": {},
   "source": [
    "También podemos realizarlo más rápido a partir de la función `sns.regplot()` de la librería `seaborn`, la cual incluye una recta de regresión junto con un intervalo de confianza de 95%:"
   ]
  },
  {
   "cell_type": "code",
   "execution_count": 24,
   "metadata": {},
   "outputs": [
    {
     "data": {
      "text/plain": [
       "<matplotlib.axes._subplots.AxesSubplot at 0x1b2471d8508>"
      ]
     },
     "execution_count": 24,
     "metadata": {},
     "output_type": "execute_result"
    },
    {
     "data": {
      "image/png": "[encoded data removed]",
      "text/plain": [
       "<Figure size 432x288 with 1 Axes>"
      ]
     },
     "metadata": {
      "needs_background": "light"
     },
     "output_type": "display_data"
    }
   ],
   "source": [
    "sns.regplot(x = \"TV\", y = \"Sales\", data = df_ads_tv)"
   ]
  },
  {
   "cell_type": "markdown",
   "metadata": {},
   "source": [
    "**Análisis de la precisión de los coeficientes:**\n",
    "\n",
    "El intervalo de confianza de los coeficiente $\\hat{\\alpha}$ y $\\hat{\\beta}$, se obtiene de las siguientes fórmulas:\n",
    "\n",
    "\\begin{equation*}\n",
    "\\Bigl( \\hat{\\alpha} - t·SE(\\hat{\\alpha}),\\ \\hat{\\alpha} + t·SE(\\hat{\\alpha})  \\Bigr)\n",
    "\\end{equation*}\n",
    "\n",
    "\\begin{equation*}\n",
    "\\Bigl( \\hat{\\beta} - t·SE(\\hat{\\beta}),\\ \\hat{\\beta} + t·SE(\\hat{\\beta})  \\Bigr)\n",
    "\\end{equation*}\n",
    "\n",
    "Donde $t$ es la el estadístico t-student para n-2 grados de libertad y un grado de confianza definido. Se puede obtener en Python mediante la función `stat.t.isf(probabilidad, grados_libertad)` de la librería `SciPy`."
   ]
  },
  {
   "cell_type": "code",
   "execution_count": 20,
   "metadata": {},
   "outputs": [
    {
     "data": {
      "text/plain": [
       "1.972017477833896"
      ]
     },
     "execution_count": 20,
     "metadata": {},
     "output_type": "execute_result"
    }
   ],
   "source": [
    "## Importamos el modulo stats de SciPy\n",
    "from scipy import stats\n",
    "\n",
    "## Obtenemos el t-estadístico para un valor del 97,5% (0.025 es 0.05/2, para tener en cuenta ambas colas)\n",
    "stats.t.isf(0.025, len(data_ads)-2)"
   ]
  },
  {
   "cell_type": "markdown",
   "metadata": {},
   "source": [
    "**Análisis de la precisión del modelo:**\n",
    "\n",
    "Una vez se ha obtenido la ecuación del modelo de predicción de la variable dependiente, es momento de analizar como se adapta el modelo a la realidad del dataset, para ello se deben analizar los indicadores $RSE$ y $R^2$:\n",
    "\n",
    "\\begin{equation*}\n",
    "RSE = \\sigma = \\sqrt{\\frac{RSS}{n-2}} = \\sqrt{\\frac{\\sum (y_i - \\hat{y})^2}{n-2}}\\qquad\n",
    "R^2 = \\frac{\\sum(y_i - \\bar{y})^2-\\sum(y_i - \\hat{y})^2}{\\sum(y_i - \\bar{y})^2} = \\frac{TSS-RSS}{TSS} = 1 - \\frac{RSS}{TSS}\n",
    "\\end{equation*}"
   ]
  },
  {
   "cell_type": "code",
   "execution_count": 66,
   "metadata": {},
   "outputs": [
    {
     "name": "stdout",
     "output_type": "stream",
     "text": [
      "El error residual estándar es: 3.258662382778687\n"
     ]
    }
   ],
   "source": [
    "## Indicador RSE:\n",
    "RSE = np.sqrt(sum((df_ads_tv['Sales']-df_ads_tv['Sales_pred'])**2)/(len(df_ads_tv)-2))\n",
    "print('El error residual estándar es:', RSE)"
   ]
  },
  {
   "cell_type": "markdown",
   "metadata": {},
   "source": [
    "El dato anterior indica que para cualquier predicción que hagamos de $\\hat{y}_i$ en base a $x_i$, tendrá un error de 3.25 unidades.\n",
    "\n",
    "Para valorar si el ajuste obtenido por la recta a la nube muestral de puntos es bueno, es conveniente utilizar el valor numérico del RSE en relación con alguna referencia, y la media muestral de la variable endógena es un buen indicador.\n",
    "\n",
    "Esto permite presentar que porcentaje de los resultados es explicado por el modelo."
   ]
  },
  {
   "cell_type": "code",
   "execution_count": 68,
   "metadata": {},
   "outputs": [
    {
     "data": {
      "text/plain": [
       "0.23238811786619265"
      ]
     },
     "execution_count": 68,
     "metadata": {},
     "output_type": "execute_result"
    }
   ],
   "source": [
    "## Indicador RSE en relación a la variable dependiente:\n",
    "RSE/df_ads_tv['Sales'].mean()"
   ]
  },
  {
   "cell_type": "markdown",
   "metadata": {},
   "source": [
    "De este análisis podemos deducir que aunque las ventas están muy ligadas a la televisión, y que indudablemente un aumento del gasto en este medio conllevará un aumento en las ventas, pero no explica al 100% el resultado en ventas, de hecho hay un 23% de las ventas que se quedan fuera de este análisis si solo tenemos en cuenta la TV.\n",
    "\n",
    "Por lo que para afinar más este modelo, parece claro que habrá que incluír el resto de variables en el análisis para obtener el modelo mas ajustado a la realidad."
   ]
  },
  {
   "cell_type": "markdown",
   "metadata": {},
   "source": [
    "De cara a seguir obteniendo información de la bondad de ajuste del modelo, podemos calcular también el coeficiente de determinación $R^2$:"
   ]
  },
  {
   "cell_type": "code",
   "execution_count": 77,
   "metadata": {},
   "outputs": [
    {
     "name": "stdout",
     "output_type": "stream",
     "text": [
      "El coeficiente de determinación R2 es: 0.6118736182133633\n"
     ]
    }
   ],
   "source": [
    "## Indicador R^2:\n",
    "R2 = 1 - (sum((df_ads_tv['Sales']-df_ads_tv['Sales_pred'])**2)/sum((df_ads_tv['Sales']-df_ads_tv['Sales_mean'])**2))\n",
    "print('El coeficiente de determinación R2 es:', R2)"
   ]
  },
  {
   "cell_type": "markdown",
   "metadata": {},
   "source": [
    "## 4. Regresión lineal - statsmodel"
   ]
  },
  {
   "cell_type": "markdown",
   "metadata": {},
   "source": [
    "statsmodels es una librería de Python que proporciona clases y funciones para la estimación de muchos modelos estadísticos diferentes, así como para realizar pruebas estadísticas y exploración de datos estadísticos.\n",
    "\n",
    "Este paquete permite obtener datos estadísticos y las bondades de ajuste de una regresión lineal, de una forma más cómoda que la manual, y también permite analizar que variables tienen más peso en el ajuste del modelo."
   ]
  },
  {
   "cell_type": "code",
   "execution_count": 82,
   "metadata": {},
   "outputs": [],
   "source": [
    "## Importamos librerias\n",
    "import statsmodels.formula.api as smf"
   ]
  },
  {
   "cell_type": "code",
   "execution_count": 83,
   "metadata": {},
   "outputs": [
    {
     "data": {
      "text/html": [
       "<div>\n",
       "<style scoped>\n",
       "    .dataframe tbody tr th:only-of-type {\n",
       "        vertical-align: middle;\n",
       "    }\n",
       "\n",
       "    .dataframe tbody tr th {\n",
       "        vertical-align: top;\n",
       "    }\n",
       "\n",
       "    .dataframe thead th {\n",
       "        text-align: right;\n",
       "    }\n",
       "</style>\n",
       "<table border=\"1\" class=\"dataframe\">\n",
       "  <thead>\n",
       "    <tr style=\"text-align: right;\">\n",
       "      <th></th>\n",
       "      <th>TV</th>\n",
       "      <th>Radio</th>\n",
       "      <th>Newspaper</th>\n",
       "      <th>Sales</th>\n",
       "    </tr>\n",
       "  </thead>\n",
       "  <tbody>\n",
       "    <tr>\n",
       "      <td>0</td>\n",
       "      <td>230.1</td>\n",
       "      <td>37.8</td>\n",
       "      <td>69.2</td>\n",
       "      <td>22.1</td>\n",
       "    </tr>\n",
       "    <tr>\n",
       "      <td>1</td>\n",
       "      <td>44.5</td>\n",
       "      <td>39.3</td>\n",
       "      <td>45.1</td>\n",
       "      <td>10.4</td>\n",
       "    </tr>\n",
       "    <tr>\n",
       "      <td>2</td>\n",
       "      <td>17.2</td>\n",
       "      <td>45.9</td>\n",
       "      <td>69.3</td>\n",
       "      <td>9.3</td>\n",
       "    </tr>\n",
       "  </tbody>\n",
       "</table>\n",
       "</div>"
      ],
      "text/plain": [
       "      TV  Radio  Newspaper  Sales\n",
       "0  230.1   37.8       69.2   22.1\n",
       "1   44.5   39.3       45.1   10.4\n",
       "2   17.2   45.9       69.3    9.3"
      ]
     },
     "execution_count": 83,
     "metadata": {},
     "output_type": "execute_result"
    }
   ],
   "source": [
    "data_ads.head(3)"
   ]
  },
  {
   "cell_type": "markdown",
   "metadata": {},
   "source": [
    "### 4.1. Regresión lineal simple - statsmodel"
   ]
  },
  {
   "cell_type": "markdown",
   "metadata": {},
   "source": [
    "**Modelo de regresión lineal simple:**\n",
    "\n",
    "Mediante la función `smf.ols(formula = 'column_1~column_2', data = df).fit()` de `statsmodel`, se puede obtener el modelo de regresión lineal de una variable dependiente frente a una independiente.\n",
    "\n",
    "El parámetro `smf.ols()` indica que el ajuste del modelo será realizado mediante el método de los mínimos cuadrados (Ordinary Least Squares)."
   ]
  },
  {
   "cell_type": "code",
   "execution_count": 85,
   "metadata": {},
   "outputs": [],
   "source": [
    "## ols = ordinary least squares\n",
    "lm = smf.ols(formula = \"Sales~TV\", data = data_ads).fit()"
   ]
  },
  {
   "cell_type": "markdown",
   "metadata": {},
   "source": [
    "**Cálculo de los coeficientes:**\n",
    "\n",
    "Una vez se ha creado el modelo, se pueden obtener el intercepto y la pendiente de la recta de regresión mediante la función `.params`:"
   ]
  },
  {
   "cell_type": "code",
   "execution_count": 86,
   "metadata": {},
   "outputs": [
    {
     "data": {
      "text/plain": [
       "Intercept    7.032594\n",
       "TV           0.047537\n",
       "dtype: float64"
      ]
     },
     "execution_count": 86,
     "metadata": {},
     "output_type": "execute_result"
    }
   ],
   "source": [
    "lm.params"
   ]
  },
  {
   "cell_type": "markdown",
   "metadata": {},
   "source": [
    "Como hemos visto en temas anteriores, estos coeficientes son estimados, y por lo tanto debemos calcular su p-valor para ver si estos parámetros tienen significancia estadística. Marcamos como nivel de significancia válido 0.05.\n",
    "\n",
    "Se pueden obtener los p-valores mediante la función `.pvalues`:"
   ]
  },
  {
   "cell_type": "code",
   "execution_count": 87,
   "metadata": {},
   "outputs": [
    {
     "data": {
      "text/plain": [
       "Intercept    1.406300e-35\n",
       "TV           1.467390e-42\n",
       "dtype: float64"
      ]
     },
     "execution_count": 87,
     "metadata": {},
     "output_type": "execute_result"
    }
   ],
   "source": [
    "lm.pvalues"
   ]
  },
  {
   "cell_type": "markdown",
   "metadata": {},
   "source": [
    "**Análisis de la precisión del modelo:**\n",
    "\n",
    "Para calcular la bondad de ajuste del modelo a los puntos del dataset, podemos analizar el coeficiente de determinación $R^2$. Se puede obtener este indicador mediante la función `.rsquared`:"
   ]
  },
  {
   "cell_type": "code",
   "execution_count": 91,
   "metadata": {},
   "outputs": [
    {
     "data": {
      "text/plain": [
       "0.611875050850071"
      ]
     },
     "execution_count": 91,
     "metadata": {},
     "output_type": "execute_result"
    }
   ],
   "source": [
    "lm.rsquared"
   ]
  },
  {
   "cell_type": "code",
   "execution_count": 92,
   "metadata": {},
   "outputs": [
    {
     "data": {
      "text/plain": [
       "0.6099148238341623"
      ]
     },
     "execution_count": 92,
     "metadata": {},
     "output_type": "execute_result"
    }
   ],
   "source": [
    "lm.rsquared_adj"
   ]
  },
  {
   "cell_type": "markdown",
   "metadata": {},
   "source": [
    "Por último se puede presentar un cuadro resumen de todos los indicadores y valores estadísticos del modelo mediante la función `.summary()`:"
   ]
  },
  {
   "cell_type": "code",
   "execution_count": 95,
   "metadata": {},
   "outputs": [
    {
     "data": {
      "text/html": [
       "<table class=\"simpletable\">\n",
       "<caption>OLS Regression Results</caption>\n",
       "<tr>\n",
       "  <th>Dep. Variable:</th>          <td>Sales</td>      <th>  R-squared:         </th> <td>   0.612</td>\n",
       "</tr>\n",
       "<tr>\n",
       "  <th>Model:</th>                   <td>OLS</td>       <th>  Adj. R-squared:    </th> <td>   0.610</td>\n",
       "</tr>\n",
       "<tr>\n",
       "  <th>Method:</th>             <td>Least Squares</td>  <th>  F-statistic:       </th> <td>   312.1</td>\n",
       "</tr>\n",
       "<tr>\n",
       "  <th>Date:</th>             <td>Sat, 09 May 2020</td> <th>  Prob (F-statistic):</th> <td>1.47e-42</td>\n",
       "</tr>\n",
       "<tr>\n",
       "  <th>Time:</th>                 <td>17:50:49</td>     <th>  Log-Likelihood:    </th> <td> -519.05</td>\n",
       "</tr>\n",
       "<tr>\n",
       "  <th>No. Observations:</th>      <td>   200</td>      <th>  AIC:               </th> <td>   1042.</td>\n",
       "</tr>\n",
       "<tr>\n",
       "  <th>Df Residuals:</th>          <td>   198</td>      <th>  BIC:               </th> <td>   1049.</td>\n",
       "</tr>\n",
       "<tr>\n",
       "  <th>Df Model:</th>              <td>     1</td>      <th>                     </th>     <td> </td>   \n",
       "</tr>\n",
       "<tr>\n",
       "  <th>Covariance Type:</th>      <td>nonrobust</td>    <th>                     </th>     <td> </td>   \n",
       "</tr>\n",
       "</table>\n",
       "<table class=\"simpletable\">\n",
       "<tr>\n",
       "      <td></td>         <th>coef</th>     <th>std err</th>      <th>t</th>      <th>P>|t|</th>  <th>[0.025</th>    <th>0.975]</th>  \n",
       "</tr>\n",
       "<tr>\n",
       "  <th>Intercept</th> <td>    7.0326</td> <td>    0.458</td> <td>   15.360</td> <td> 0.000</td> <td>    6.130</td> <td>    7.935</td>\n",
       "</tr>\n",
       "<tr>\n",
       "  <th>TV</th>        <td>    0.0475</td> <td>    0.003</td> <td>   17.668</td> <td> 0.000</td> <td>    0.042</td> <td>    0.053</td>\n",
       "</tr>\n",
       "</table>\n",
       "<table class=\"simpletable\">\n",
       "<tr>\n",
       "  <th>Omnibus:</th>       <td> 0.531</td> <th>  Durbin-Watson:     </th> <td>   1.935</td>\n",
       "</tr>\n",
       "<tr>\n",
       "  <th>Prob(Omnibus):</th> <td> 0.767</td> <th>  Jarque-Bera (JB):  </th> <td>   0.669</td>\n",
       "</tr>\n",
       "<tr>\n",
       "  <th>Skew:</th>          <td>-0.089</td> <th>  Prob(JB):          </th> <td>   0.716</td>\n",
       "</tr>\n",
       "<tr>\n",
       "  <th>Kurtosis:</th>      <td> 2.779</td> <th>  Cond. No.          </th> <td>    338.</td>\n",
       "</tr>\n",
       "</table><br/><br/>Warnings:<br/>[1] Standard Errors assume that the covariance matrix of the errors is correctly specified."
      ],
      "text/plain": [
       "<class 'statsmodels.iolib.summary.Summary'>\n",
       "\"\"\"\n",
       "                            OLS Regression Results                            \n",
       "==============================================================================\n",
       "Dep. Variable:                  Sales   R-squared:                       0.612\n",
       "Model:                            OLS   Adj. R-squared:                  0.610\n",
       "Method:                 Least Squares   F-statistic:                     312.1\n",
       "Date:                Sat, 09 May 2020   Prob (F-statistic):           1.47e-42\n",
       "Time:                        17:50:49   Log-Likelihood:                -519.05\n",
       "No. Observations:                 200   AIC:                             1042.\n",
       "Df Residuals:                     198   BIC:                             1049.\n",
       "Df Model:                           1                                         \n",
       "Covariance Type:            nonrobust                                         \n",
       "==============================================================================\n",
       "                 coef    std err          t      P>|t|      [0.025      0.975]\n",
       "------------------------------------------------------------------------------\n",
       "Intercept      7.0326      0.458     15.360      0.000       6.130       7.935\n",
       "TV             0.0475      0.003     17.668      0.000       0.042       0.053\n",
       "==============================================================================\n",
       "Omnibus:                        0.531   Durbin-Watson:                   1.935\n",
       "Prob(Omnibus):                  0.767   Jarque-Bera (JB):                0.669\n",
       "Skew:                          -0.089   Prob(JB):                        0.716\n",
       "Kurtosis:                       2.779   Cond. No.                         338.\n",
       "==============================================================================\n",
       "\n",
       "Warnings:\n",
       "[1] Standard Errors assume that the covariance matrix of the errors is correctly specified.\n",
       "\"\"\""
      ]
     },
     "execution_count": 95,
     "metadata": {},
     "output_type": "execute_result"
    }
   ],
   "source": [
    "lm.summary()"
   ]
  },
  {
   "cell_type": "markdown",
   "metadata": {},
   "source": [
    "Una vez se ha dado por bueno el modelo de predicción obtenido, también se pueden obtener las variables dependientes $\\hat{y}_i$ a partir de las variables independientes $x_i$ mediante la función `lm.predict(pd.DataFrame(df['column']))`:"
   ]
  },
  {
   "cell_type": "code",
   "execution_count": 98,
   "metadata": {},
   "outputs": [
    {
     "data": {
      "text/plain": [
       "0    17.970775\n",
       "1     9.147974\n",
       "2     7.850224\n",
       "3    14.234395\n",
       "4    15.627218\n",
       "dtype: float64"
      ]
     },
     "execution_count": 98,
     "metadata": {},
     "output_type": "execute_result"
    }
   ],
   "source": [
    "y_pred = lm.predict(pd.DataFrame(data_ads['TV']))\n",
    "y_pred.head()"
   ]
  },
  {
   "cell_type": "markdown",
   "metadata": {},
   "source": [
    "### 4.2. Regresión lineal múltiple - statsmodel"
   ]
  },
  {
   "cell_type": "markdown",
   "metadata": {},
   "source": [
    "Hasta el momento solo hemos analizado las ventas en función de la inversión en publicidad mediante TV, pero como se ha visto en el análisis de algunos indicadores como el $RSE$, es posible que existan otras variables del dataset que permitan un ajuste mejor y expliquen mejor las ventas. Para ello, se va a realiza una regresión lineal múltiple incluyendo las variables Newspaper y Radio."
   ]
  },
  {
   "cell_type": "markdown",
   "metadata": {},
   "source": [
    "**Modelo de regresión múltiple:**"
   ]
  },
  {
   "cell_type": "code",
   "execution_count": 102,
   "metadata": {},
   "outputs": [],
   "source": [
    "## Analizamos el modelo incluyendo como variables independientes en primer lugar TV y Radio, y en segundo lugar TV, Radio y Newspaper:\n",
    "mult_lm_tv_rad = smf.ols(formula = \"Sales~TV+Radio\", data = data_ads).fit()\n",
    "mult_lm_tv_rad_ns = smf.ols(formula = \"Sales~TV+Radio+Newspaper\", data = data_ads).fit()"
   ]
  },
  {
   "cell_type": "markdown",
   "metadata": {},
   "source": [
    "**Análisis de la precisión del modelo:**"
   ]
  },
  {
   "cell_type": "code",
   "execution_count": 103,
   "metadata": {},
   "outputs": [
    {
     "data": {
      "text/html": [
       "<table class=\"simpletable\">\n",
       "<caption>OLS Regression Results</caption>\n",
       "<tr>\n",
       "  <th>Dep. Variable:</th>          <td>Sales</td>      <th>  R-squared:         </th> <td>   0.897</td>\n",
       "</tr>\n",
       "<tr>\n",
       "  <th>Model:</th>                   <td>OLS</td>       <th>  Adj. R-squared:    </th> <td>   0.896</td>\n",
       "</tr>\n",
       "<tr>\n",
       "  <th>Method:</th>             <td>Least Squares</td>  <th>  F-statistic:       </th> <td>   859.6</td>\n",
       "</tr>\n",
       "<tr>\n",
       "  <th>Date:</th>             <td>Sat, 09 May 2020</td> <th>  Prob (F-statistic):</th> <td>4.83e-98</td>\n",
       "</tr>\n",
       "<tr>\n",
       "  <th>Time:</th>                 <td>18:24:53</td>     <th>  Log-Likelihood:    </th> <td> -386.20</td>\n",
       "</tr>\n",
       "<tr>\n",
       "  <th>No. Observations:</th>      <td>   200</td>      <th>  AIC:               </th> <td>   778.4</td>\n",
       "</tr>\n",
       "<tr>\n",
       "  <th>Df Residuals:</th>          <td>   197</td>      <th>  BIC:               </th> <td>   788.3</td>\n",
       "</tr>\n",
       "<tr>\n",
       "  <th>Df Model:</th>              <td>     2</td>      <th>                     </th>     <td> </td>   \n",
       "</tr>\n",
       "<tr>\n",
       "  <th>Covariance Type:</th>      <td>nonrobust</td>    <th>                     </th>     <td> </td>   \n",
       "</tr>\n",
       "</table>\n",
       "<table class=\"simpletable\">\n",
       "<tr>\n",
       "      <td></td>         <th>coef</th>     <th>std err</th>      <th>t</th>      <th>P>|t|</th>  <th>[0.025</th>    <th>0.975]</th>  \n",
       "</tr>\n",
       "<tr>\n",
       "  <th>Intercept</th> <td>    2.9211</td> <td>    0.294</td> <td>    9.919</td> <td> 0.000</td> <td>    2.340</td> <td>    3.502</td>\n",
       "</tr>\n",
       "<tr>\n",
       "  <th>TV</th>        <td>    0.0458</td> <td>    0.001</td> <td>   32.909</td> <td> 0.000</td> <td>    0.043</td> <td>    0.048</td>\n",
       "</tr>\n",
       "<tr>\n",
       "  <th>Radio</th>     <td>    0.1880</td> <td>    0.008</td> <td>   23.382</td> <td> 0.000</td> <td>    0.172</td> <td>    0.204</td>\n",
       "</tr>\n",
       "</table>\n",
       "<table class=\"simpletable\">\n",
       "<tr>\n",
       "  <th>Omnibus:</th>       <td>60.022</td> <th>  Durbin-Watson:     </th> <td>   2.081</td>\n",
       "</tr>\n",
       "<tr>\n",
       "  <th>Prob(Omnibus):</th> <td> 0.000</td> <th>  Jarque-Bera (JB):  </th> <td> 148.679</td>\n",
       "</tr>\n",
       "<tr>\n",
       "  <th>Skew:</th>          <td>-1.323</td> <th>  Prob(JB):          </th> <td>5.19e-33</td>\n",
       "</tr>\n",
       "<tr>\n",
       "  <th>Kurtosis:</th>      <td> 6.292</td> <th>  Cond. No.          </th> <td>    425.</td>\n",
       "</tr>\n",
       "</table><br/><br/>Warnings:<br/>[1] Standard Errors assume that the covariance matrix of the errors is correctly specified."
      ],
      "text/plain": [
       "<class 'statsmodels.iolib.summary.Summary'>\n",
       "\"\"\"\n",
       "                            OLS Regression Results                            \n",
       "==============================================================================\n",
       "Dep. Variable:                  Sales   R-squared:                       0.897\n",
       "Model:                            OLS   Adj. R-squared:                  0.896\n",
       "Method:                 Least Squares   F-statistic:                     859.6\n",
       "Date:                Sat, 09 May 2020   Prob (F-statistic):           4.83e-98\n",
       "Time:                        18:24:53   Log-Likelihood:                -386.20\n",
       "No. Observations:                 200   AIC:                             778.4\n",
       "Df Residuals:                     197   BIC:                             788.3\n",
       "Df Model:                           2                                         \n",
       "Covariance Type:            nonrobust                                         \n",
       "==============================================================================\n",
       "                 coef    std err          t      P>|t|      [0.025      0.975]\n",
       "------------------------------------------------------------------------------\n",
       "Intercept      2.9211      0.294      9.919      0.000       2.340       3.502\n",
       "TV             0.0458      0.001     32.909      0.000       0.043       0.048\n",
       "Radio          0.1880      0.008     23.382      0.000       0.172       0.204\n",
       "==============================================================================\n",
       "Omnibus:                       60.022   Durbin-Watson:                   2.081\n",
       "Prob(Omnibus):                  0.000   Jarque-Bera (JB):              148.679\n",
       "Skew:                          -1.323   Prob(JB):                     5.19e-33\n",
       "Kurtosis:                       6.292   Cond. No.                         425.\n",
       "==============================================================================\n",
       "\n",
       "Warnings:\n",
       "[1] Standard Errors assume that the covariance matrix of the errors is correctly specified.\n",
       "\"\"\""
      ]
     },
     "execution_count": 103,
     "metadata": {},
     "output_type": "execute_result"
    }
   ],
   "source": [
    "mult_lm_tv_rad.summary()"
   ]
  },
  {
   "cell_type": "code",
   "execution_count": 104,
   "metadata": {},
   "outputs": [
    {
     "data": {
      "text/html": [
       "<table class=\"simpletable\">\n",
       "<caption>OLS Regression Results</caption>\n",
       "<tr>\n",
       "  <th>Dep. Variable:</th>          <td>Sales</td>      <th>  R-squared:         </th> <td>   0.897</td>\n",
       "</tr>\n",
       "<tr>\n",
       "  <th>Model:</th>                   <td>OLS</td>       <th>  Adj. R-squared:    </th> <td>   0.896</td>\n",
       "</tr>\n",
       "<tr>\n",
       "  <th>Method:</th>             <td>Least Squares</td>  <th>  F-statistic:       </th> <td>   570.3</td>\n",
       "</tr>\n",
       "<tr>\n",
       "  <th>Date:</th>             <td>Sat, 09 May 2020</td> <th>  Prob (F-statistic):</th> <td>1.58e-96</td>\n",
       "</tr>\n",
       "<tr>\n",
       "  <th>Time:</th>                 <td>18:24:58</td>     <th>  Log-Likelihood:    </th> <td> -386.18</td>\n",
       "</tr>\n",
       "<tr>\n",
       "  <th>No. Observations:</th>      <td>   200</td>      <th>  AIC:               </th> <td>   780.4</td>\n",
       "</tr>\n",
       "<tr>\n",
       "  <th>Df Residuals:</th>          <td>   196</td>      <th>  BIC:               </th> <td>   793.6</td>\n",
       "</tr>\n",
       "<tr>\n",
       "  <th>Df Model:</th>              <td>     3</td>      <th>                     </th>     <td> </td>   \n",
       "</tr>\n",
       "<tr>\n",
       "  <th>Covariance Type:</th>      <td>nonrobust</td>    <th>                     </th>     <td> </td>   \n",
       "</tr>\n",
       "</table>\n",
       "<table class=\"simpletable\">\n",
       "<tr>\n",
       "      <td></td>         <th>coef</th>     <th>std err</th>      <th>t</th>      <th>P>|t|</th>  <th>[0.025</th>    <th>0.975]</th>  \n",
       "</tr>\n",
       "<tr>\n",
       "  <th>Intercept</th> <td>    2.9389</td> <td>    0.312</td> <td>    9.422</td> <td> 0.000</td> <td>    2.324</td> <td>    3.554</td>\n",
       "</tr>\n",
       "<tr>\n",
       "  <th>TV</th>        <td>    0.0458</td> <td>    0.001</td> <td>   32.809</td> <td> 0.000</td> <td>    0.043</td> <td>    0.049</td>\n",
       "</tr>\n",
       "<tr>\n",
       "  <th>Radio</th>     <td>    0.1885</td> <td>    0.009</td> <td>   21.893</td> <td> 0.000</td> <td>    0.172</td> <td>    0.206</td>\n",
       "</tr>\n",
       "<tr>\n",
       "  <th>Newspaper</th> <td>   -0.0010</td> <td>    0.006</td> <td>   -0.177</td> <td> 0.860</td> <td>   -0.013</td> <td>    0.011</td>\n",
       "</tr>\n",
       "</table>\n",
       "<table class=\"simpletable\">\n",
       "<tr>\n",
       "  <th>Omnibus:</th>       <td>60.414</td> <th>  Durbin-Watson:     </th> <td>   2.084</td>\n",
       "</tr>\n",
       "<tr>\n",
       "  <th>Prob(Omnibus):</th> <td> 0.000</td> <th>  Jarque-Bera (JB):  </th> <td> 151.241</td>\n",
       "</tr>\n",
       "<tr>\n",
       "  <th>Skew:</th>          <td>-1.327</td> <th>  Prob(JB):          </th> <td>1.44e-33</td>\n",
       "</tr>\n",
       "<tr>\n",
       "  <th>Kurtosis:</th>      <td> 6.332</td> <th>  Cond. No.          </th> <td>    454.</td>\n",
       "</tr>\n",
       "</table><br/><br/>Warnings:<br/>[1] Standard Errors assume that the covariance matrix of the errors is correctly specified."
      ],
      "text/plain": [
       "<class 'statsmodels.iolib.summary.Summary'>\n",
       "\"\"\"\n",
       "                            OLS Regression Results                            \n",
       "==============================================================================\n",
       "Dep. Variable:                  Sales   R-squared:                       0.897\n",
       "Model:                            OLS   Adj. R-squared:                  0.896\n",
       "Method:                 Least Squares   F-statistic:                     570.3\n",
       "Date:                Sat, 09 May 2020   Prob (F-statistic):           1.58e-96\n",
       "Time:                        18:24:58   Log-Likelihood:                -386.18\n",
       "No. Observations:                 200   AIC:                             780.4\n",
       "Df Residuals:                     196   BIC:                             793.6\n",
       "Df Model:                           3                                         \n",
       "Covariance Type:            nonrobust                                         \n",
       "==============================================================================\n",
       "                 coef    std err          t      P>|t|      [0.025      0.975]\n",
       "------------------------------------------------------------------------------\n",
       "Intercept      2.9389      0.312      9.422      0.000       2.324       3.554\n",
       "TV             0.0458      0.001     32.809      0.000       0.043       0.049\n",
       "Radio          0.1885      0.009     21.893      0.000       0.172       0.206\n",
       "Newspaper     -0.0010      0.006     -0.177      0.860      -0.013       0.011\n",
       "==============================================================================\n",
       "Omnibus:                       60.414   Durbin-Watson:                   2.084\n",
       "Prob(Omnibus):                  0.000   Jarque-Bera (JB):              151.241\n",
       "Skew:                          -1.327   Prob(JB):                     1.44e-33\n",
       "Kurtosis:                       6.332   Cond. No.                         454.\n",
       "==============================================================================\n",
       "\n",
       "Warnings:\n",
       "[1] Standard Errors assume that the covariance matrix of the errors is correctly specified.\n",
       "\"\"\""
      ]
     },
     "execution_count": 104,
     "metadata": {},
     "output_type": "execute_result"
    }
   ],
   "source": [
    "mult_lm_tv_rad_ns.summary()"
   ]
  },
  {
   "cell_type": "markdown",
   "metadata": {},
   "source": [
    "Analizando los dos cuadros de resultados observamos que el $R^2$ es igual en ambos modelos de regresión. En caso de empate se suele optar por los modelos que menos variables dependientes tengan ya que son más sencillos e interpretables. Otra explicación para los casos en los que aumentando el número de variables se consigue una bondad de ajuste similar a la de modelos con menos entradas, puede deberse a la multicolienalidad**.\n",
    "\n",
    "Adicionalmente si analizamos los intervalos de confianza y los p-valores, en el caso de la variable newspaper observamos que tiene un p-valor elevado, y que ademas el 0 está contenido en el intervalo, por lo que podríamos deshecharla del modelo."
   ]
  },
  {
   "cell_type": "markdown",
   "metadata": {},
   "source": [
    "## 5. Regresión lineal - scikit-learn"
   ]
  },
  {
   "cell_type": "markdown",
   "metadata": {},
   "source": [
    "scikit-learn es una libreria de aprendizaje automático de software libre para el lenguaje de programación Python. Incluye algoritmos de clasificación, regresión y clustering.\n",
    "\n",
    "Al igual que el paquete statsmodel, esta librería contiene ya funciones predefinidas que permiten realizar una regresión lineal de forma sencilla."
   ]
  },
  {
   "cell_type": "code",
   "execution_count": 16,
   "metadata": {},
   "outputs": [],
   "source": [
    "## Importamos librerias\n",
    "from sklearn.linear_model import LinearRegression              ## Módulo para realizar regresiones lineales"
   ]
  },
  {
   "cell_type": "code",
   "execution_count": 110,
   "metadata": {},
   "outputs": [
    {
     "data": {
      "text/html": [
       "<div>\n",
       "<style scoped>\n",
       "    .dataframe tbody tr th:only-of-type {\n",
       "        vertical-align: middle;\n",
       "    }\n",
       "\n",
       "    .dataframe tbody tr th {\n",
       "        vertical-align: top;\n",
       "    }\n",
       "\n",
       "    .dataframe thead th {\n",
       "        text-align: right;\n",
       "    }\n",
       "</style>\n",
       "<table border=\"1\" class=\"dataframe\">\n",
       "  <thead>\n",
       "    <tr style=\"text-align: right;\">\n",
       "      <th></th>\n",
       "      <th>TV</th>\n",
       "      <th>Radio</th>\n",
       "      <th>Newspaper</th>\n",
       "      <th>Sales</th>\n",
       "    </tr>\n",
       "  </thead>\n",
       "  <tbody>\n",
       "    <tr>\n",
       "      <td>0</td>\n",
       "      <td>230.1</td>\n",
       "      <td>37.8</td>\n",
       "      <td>69.2</td>\n",
       "      <td>22.1</td>\n",
       "    </tr>\n",
       "    <tr>\n",
       "      <td>1</td>\n",
       "      <td>44.5</td>\n",
       "      <td>39.3</td>\n",
       "      <td>45.1</td>\n",
       "      <td>10.4</td>\n",
       "    </tr>\n",
       "    <tr>\n",
       "      <td>2</td>\n",
       "      <td>17.2</td>\n",
       "      <td>45.9</td>\n",
       "      <td>69.3</td>\n",
       "      <td>9.3</td>\n",
       "    </tr>\n",
       "  </tbody>\n",
       "</table>\n",
       "</div>"
      ],
      "text/plain": [
       "      TV  Radio  Newspaper  Sales\n",
       "0  230.1   37.8       69.2   22.1\n",
       "1   44.5   39.3       45.1   10.4\n",
       "2   17.2   45.9       69.3    9.3"
      ]
     },
     "execution_count": 110,
     "metadata": {},
     "output_type": "execute_result"
    }
   ],
   "source": [
    "data_ads.head(3)"
   ]
  },
  {
   "cell_type": "markdown",
   "metadata": {},
   "source": [
    "**Modelo de regresión múltiple:**"
   ]
  },
  {
   "cell_type": "markdown",
   "metadata": {},
   "source": [
    "Para fabricar el módelo de regresión mediante la libreria `scikit-learn` en primer lugar se debe crear un objeto de regresión lineal mediante la función `LinearRegression()`, para después entrenarlo con el dataset `.fit(inputs, outputs)`."
   ]
  },
  {
   "cell_type": "code",
   "execution_count": 8,
   "metadata": {},
   "outputs": [
    {
     "data": {
      "text/plain": [
       "LinearRegression(copy_X=True, fit_intercept=True, n_jobs=None, normalize=False)"
      ]
     },
     "execution_count": 8,
     "metadata": {},
     "output_type": "execute_result"
    }
   ],
   "source": [
    "## Crear un objeto de regresión lineal, lo llamamo lm:\n",
    "lm = LinearRegression()\n",
    "\n",
    "## Entrenamiento del modelo mediante el dataset:\n",
    "lm.fit(data_ads[['TV', 'Radio']], data_ads['Sales'])"
   ]
  },
  {
   "cell_type": "markdown",
   "metadata": {},
   "source": [
    "**Cálculo de los coeficientes:**"
   ]
  },
  {
   "cell_type": "markdown",
   "metadata": {},
   "source": [
    "Una vez se ha entrenado el modelo, se pueden extraer los coeficientes alfa y beta mediante las funciones `.intercept_` y `.coef_` respectivamente:"
   ]
  },
  {
   "cell_type": "code",
   "execution_count": 9,
   "metadata": {},
   "outputs": [
    {
     "data": {
      "text/plain": [
       "2.9210999124051362"
      ]
     },
     "execution_count": 9,
     "metadata": {},
     "output_type": "execute_result"
    }
   ],
   "source": [
    "lm.intercept_"
   ]
  },
  {
   "cell_type": "code",
   "execution_count": 10,
   "metadata": {},
   "outputs": [
    {
     "data": {
      "text/plain": [
       "array([0.04575482, 0.18799423])"
      ]
     },
     "execution_count": 10,
     "metadata": {},
     "output_type": "execute_result"
    }
   ],
   "source": [
    "lm.coef_"
   ]
  },
  {
   "cell_type": "markdown",
   "metadata": {},
   "source": [
    "**Análisis de la precisión del modelo:**\n",
    "\n",
    "Podemos obtener el indicador de determinación $R^2$ mediante la función `lm.score(inputs, outputs)`:"
   ]
  },
  {
   "cell_type": "code",
   "execution_count": 11,
   "metadata": {},
   "outputs": [
    {
     "data": {
      "text/plain": [
       "0.8971942610828956"
      ]
     },
     "execution_count": 11,
     "metadata": {},
     "output_type": "execute_result"
    }
   ],
   "source": [
    "lm.score(data_ads[['TV', 'Radio']], data_ads['Sales'])"
   ]
  },
  {
   "cell_type": "markdown",
   "metadata": {},
   "source": [
    "Una vez se ha dado por bueno el modelo de predicción obtenido, también se pueden obtener las variables dependientes $\\hat{y}_i$ a partir de las variables independientes $x_i$ mediante la función `lm.predict(df[['column_1', 'column_2', ...]])`:"
   ]
  },
  {
   "cell_type": "code",
   "execution_count": 13,
   "metadata": {},
   "outputs": [],
   "source": [
    "# Relizar predicciones\n",
    "y_pred = lm.predict(data_ads[['TV', 'Radio']])"
   ]
  },
  {
   "cell_type": "markdown",
   "metadata": {},
   "source": [
    "## 6. Regresión lineal con variables categóricas"
   ]
  },
  {
   "cell_type": "markdown",
   "metadata": {},
   "source": [
    "Hasta ahora, en todos los casos desarrollados, las variables predictoras eran numéricas o cuantitativas, pero se pueden encontrar datasets que tengan variables categóricas con un impacto importante en la variable a predecir.\n",
    "\n",
    "Para solucionar este problema, lo que se suele hacer es crear variables dummies por cada variable categórica que se quiera incluir en el modelo predictor, e incluirlas en las ecuaciones de regresión.\n",
    "\n",
    "Para llevar a cabo este ejercicio, cargamos otro dataset. Este fichero contiene información del número de transacciones, cantidad de gasto, y datos del individuo que lleva a cabo las transacciones; la variable a predecir será la columna Total Spend. Como se puede ver en el fichero existen columnas con variables categóricas como el género o el ranking de la ciudad a la que pertenecen."
   ]
  },
  {
   "cell_type": "code",
   "execution_count": 28,
   "metadata": {},
   "outputs": [
    {
     "data": {
      "text/html": [
       "<div>\n",
       "<style scoped>\n",
       "    .dataframe tbody tr th:only-of-type {\n",
       "        vertical-align: middle;\n",
       "    }\n",
       "\n",
       "    .dataframe tbody tr th {\n",
       "        vertical-align: top;\n",
       "    }\n",
       "\n",
       "    .dataframe thead th {\n",
       "        text-align: right;\n",
       "    }\n",
       "</style>\n",
       "<table border=\"1\" class=\"dataframe\">\n",
       "  <thead>\n",
       "    <tr style=\"text-align: right;\">\n",
       "      <th></th>\n",
       "      <th>Transaction ID</th>\n",
       "      <th>Age</th>\n",
       "      <th>Items</th>\n",
       "      <th>Monthly Income</th>\n",
       "      <th>Transaction Time</th>\n",
       "      <th>Record</th>\n",
       "      <th>Gender</th>\n",
       "      <th>City Tier</th>\n",
       "      <th>Total Spend</th>\n",
       "    </tr>\n",
       "  </thead>\n",
       "  <tbody>\n",
       "    <tr>\n",
       "      <td>0</td>\n",
       "      <td>TXN001</td>\n",
       "      <td>42</td>\n",
       "      <td>10</td>\n",
       "      <td>7313</td>\n",
       "      <td>627.668127</td>\n",
       "      <td>5</td>\n",
       "      <td>Female</td>\n",
       "      <td>Tier 1</td>\n",
       "      <td>4198.385084</td>\n",
       "    </tr>\n",
       "    <tr>\n",
       "      <td>1</td>\n",
       "      <td>TXN002</td>\n",
       "      <td>24</td>\n",
       "      <td>8</td>\n",
       "      <td>17747</td>\n",
       "      <td>126.904567</td>\n",
       "      <td>3</td>\n",
       "      <td>Female</td>\n",
       "      <td>Tier 2</td>\n",
       "      <td>4134.976648</td>\n",
       "    </tr>\n",
       "    <tr>\n",
       "      <td>2</td>\n",
       "      <td>TXN003</td>\n",
       "      <td>47</td>\n",
       "      <td>11</td>\n",
       "      <td>22845</td>\n",
       "      <td>873.469701</td>\n",
       "      <td>2</td>\n",
       "      <td>Male</td>\n",
       "      <td>Tier 2</td>\n",
       "      <td>5166.614455</td>\n",
       "    </tr>\n",
       "  </tbody>\n",
       "</table>\n",
       "</div>"
      ],
      "text/plain": [
       "  Transaction ID  Age    Items   Monthly Income  Transaction Time  Record  \\\n",
       "0         TXN001    42       10            7313        627.668127       5   \n",
       "1         TXN002    24        8           17747        126.904567       3   \n",
       "2         TXN003    47       11           22845        873.469701       2   \n",
       "\n",
       "   Gender City Tier  Total Spend  \n",
       "0  Female    Tier 1  4198.385084  \n",
       "1  Female    Tier 2  4134.976648  \n",
       "2    Male    Tier 2  5166.614455  "
      ]
     },
     "execution_count": 28,
     "metadata": {},
     "output_type": "execute_result"
    }
   ],
   "source": [
    "## Cargamos el fichero de trabajo\n",
    "mainpath = \"C:/Users/gmachin/Desktop/Developer/apuntes-notebooks/datasets\"\n",
    "filename = \"/ecom-expense/ecom-expense.csv\"\n",
    "fullpath = mainpath + filename\n",
    "\n",
    "data_exp = pd.read_csv(fullpath)\n",
    "\n",
    "data_exp.head(3)"
   ]
  },
  {
   "cell_type": "markdown",
   "metadata": {},
   "source": [
    "Queremos incluir en el modelo predictivo el género y la ciudad de origen, por lo que tendremos que dumificarlas para convertirlas en un número y poder realizar una predicción incluyendo estos datos."
   ]
  },
  {
   "cell_type": "code",
   "execution_count": 38,
   "metadata": {},
   "outputs": [],
   "source": [
    "# Dumificamos el género y la ciudad\n",
    "dummy_gender = pd.get_dummies(data_exp[\"Gender\"], prefix = \"Gender\")\n",
    "dummy_city_tier = pd.get_dummies(data_exp[\"City Tier\"], prefix = \"City\")\n",
    "\n",
    "## Concatenamos estos datos en la tabla origen\n",
    "data_exp_2 = pd.concat([data_exp, dummy_gender, dummy_city_tier], axis = 1)\n",
    "\n",
    "## Definimos las variables independientes del modelo (X), y las dependientes (y)\n",
    "cols = [\"Monthly Income\",\n",
    "        \"Transaction Time\", \n",
    "        \"Gender_Female\",\n",
    "        \"Gender_Male\", \n",
    "        \"City_Tier 1\",\n",
    "        \"City_Tier 2\",\n",
    "        \"City_Tier 3\",\n",
    "        \"Record\"]\n",
    "\n",
    "X = data_exp_2[cols]\n",
    "\n",
    "y = data_exp_2[['Total Spend']]"
   ]
  },
  {
   "cell_type": "markdown",
   "metadata": {},
   "source": [
    "Una vez tenemos el dataset dividido en variables dependientes e independientes, se puede comenzar con la modelización de la regresión. Para ello, nos apoyamos en la librería `scikit-learn`."
   ]
  },
  {
   "cell_type": "code",
   "execution_count": 39,
   "metadata": {},
   "outputs": [
    {
     "name": "stdout",
     "output_type": "stream",
     "text": [
      "[-79.4171303]\n",
      "[[ 1.47538980e-01  1.54946125e-01 -1.31025013e+02  1.31025013e+02\n",
      "   7.67643260e+01  5.51389743e+01 -1.31903300e+02  7.72233446e+02]]\n"
     ]
    }
   ],
   "source": [
    "## Crear un objeto de regresión lineal, lo llamamo lm:\n",
    "lm = LinearRegression()\n",
    "\n",
    "## Entrenamiento del modelo mediante el dataset:\n",
    "lm.fit(X, y)\n",
    "\n",
    "## Obtenemos los coeficientes\n",
    "print(lm.intercept_)\n",
    "print(lm.coef_)"
   ]
  },
  {
   "cell_type": "markdown",
   "metadata": {},
   "source": [
    ">*Merece la pena indicar que si nos fijamos en los coeficientes de las variables que hemos dumificado y las sumamos, las de género por un lado, y la de distrito por otro, todas suman 0. Para evitar un número de coeficientes redundantes podemos eliminar de cada grupo de variables dumificadas una de ellas, ya que esta es inferible a partir de las restantes.*"
   ]
  },
  {
   "cell_type": "markdown",
   "metadata": {},
   "source": [
    "## 7. Bibliografía"
   ]
  },
  {
   "cell_type": "markdown",
   "metadata": {},
   "source": [
    "Este notebook esta basado en gran medida en el capítulo 3 del libro:\n",
    "\n",
    ">*An Introductio to Statistical Learning with Applications in R.  \n",
    "ISBN: 978-1-4614-7138-7.*"
   ]
  }
 ],
 "metadata": {
  "kernelspec": {
   "display_name": "Python 3",
   "language": "python",
   "name": "python3"
  },
  "language_info": {
   "codemirror_mode": {
    "name": "ipython",
    "version": 3
   },
   "file_extension": ".py",
   "mimetype": "text/x-python",
   "name": "python",
   "nbconvert_exporter": "python",
   "pygments_lexer": "ipython3",
   "version": "3.7.4"
  }
 },
 "nbformat": 4,
 "nbformat_minor": 4
}
